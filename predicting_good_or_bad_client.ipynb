{
  "cells": [
    {
      "cell_type": "markdown",
      "id": "north-bearing",
      "metadata": {
        "papermill": {
          "duration": 0.029101,
          "end_time": "2021-12-10T02:28:21.378261",
          "exception": false,
          "start_time": "2021-12-10T02:28:21.349160",
          "status": "completed"
        },
        "tags": [],
        "id": "north-bearing"
      },
      "source": [
        "# Predicting Good or Bad From Credit Card Approvals"
      ]
    },
    {
      "cell_type": "markdown",
      "id": "posted-forum",
      "metadata": {
        "papermill": {
          "duration": 0.026299,
          "end_time": "2021-12-10T02:28:21.487295",
          "exception": false,
          "start_time": "2021-12-10T02:28:21.460996",
          "status": "completed"
        },
        "tags": [],
        "id": "posted-forum"
      },
      "source": [
        "Application data contains information from clients when applying for credit card. The credit card data contains information on the length of time the credit card account was opened since the initial approval as well as the status of the loan during each month. The purpose of this machine learning task is to predict whether or not a client is good or bad based on the application/ credit card data. The target variable is not given so we will need to find a method to determine good or bad."
      ]
    },
    {
      "cell_type": "code",
      "execution_count": null,
      "id": "plain-preserve",
      "metadata": {
        "execution": {
          "iopub.execute_input": "2021-12-10T02:28:21.548905Z",
          "iopub.status.busy": "2021-12-10T02:28:21.546954Z",
          "iopub.status.idle": "2021-12-10T02:28:23.000842Z",
          "shell.execute_reply": "2021-12-10T02:28:22.999627Z",
          "shell.execute_reply.started": "2021-12-10T02:09:42.88851Z"
        },
        "papermill": {
          "duration": 1.487207,
          "end_time": "2021-12-10T02:28:23.001107",
          "exception": false,
          "start_time": "2021-12-10T02:28:21.513900",
          "status": "completed"
        },
        "tags": [],
        "id": "plain-preserve"
      },
      "outputs": [],
      "source": [
        "import pandas as pd\n",
        "import numpy as np\n",
        "from imblearn.combine import SMOTETomek\n",
        "from sklearn.ensemble import RandomForestClassifier\n",
        "from sklearn.model_selection import train_test_split, RandomizedSearchCV\n",
        "from sklearn.preprocessing import OneHotEncoder\n",
        "from sklearn.metrics import roc_auc_score, accuracy_score, f1_score"
      ]
    },
    {
      "cell_type": "code",
      "execution_count": null,
      "id": "attached-segment",
      "metadata": {
        "execution": {
          "iopub.execute_input": "2021-12-10T02:28:23.063523Z",
          "iopub.status.busy": "2021-12-10T02:28:23.062718Z",
          "iopub.status.idle": "2021-12-10T02:28:25.223011Z",
          "shell.execute_reply": "2021-12-10T02:28:25.223869Z",
          "shell.execute_reply.started": "2021-12-10T02:09:42.898674Z"
        },
        "papermill": {
          "duration": 2.195584,
          "end_time": "2021-12-10T02:28:25.224079",
          "exception": false,
          "start_time": "2021-12-10T02:28:23.028495",
          "status": "completed"
        },
        "tags": [],
        "id": "attached-segment"
      },
      "outputs": [],
      "source": [
        "app = pd.read_csv('/application_record.csv')\n",
        "credit = pd.read_csv('/credit_record.csv')"
      ]
    },
    {
      "cell_type": "markdown",
      "id": "vanilla-management",
      "metadata": {
        "papermill": {
          "duration": 0.026529,
          "end_time": "2021-12-10T02:28:25.278370",
          "exception": false,
          "start_time": "2021-12-10T02:28:25.251841",
          "status": "completed"
        },
        "tags": [],
        "id": "vanilla-management"
      },
      "source": [
        "## Brief Exploration of Applications / Credit"
      ]
    },
    {
      "cell_type": "code",
      "execution_count": null,
      "id": "collectible-indie",
      "metadata": {
        "execution": {
          "iopub.execute_input": "2021-12-10T02:28:25.344710Z",
          "iopub.status.busy": "2021-12-10T02:28:25.344016Z",
          "iopub.status.idle": "2021-12-10T02:28:25.375055Z",
          "shell.execute_reply": "2021-12-10T02:28:25.374555Z",
          "shell.execute_reply.started": "2021-12-10T02:09:43.999693Z"
        },
        "papermill": {
          "duration": 0.069825,
          "end_time": "2021-12-10T02:28:25.375196",
          "exception": false,
          "start_time": "2021-12-10T02:28:25.305371",
          "status": "completed"
        },
        "tags": [],
        "colab": {
          "base_uri": "https://localhost:8080/",
          "height": 322
        },
        "id": "collectible-indie",
        "outputId": "a164207a-b89e-485b-83d7-9a25b5ce9ff6"
      },
      "outputs": [
        {
          "output_type": "execute_result",
          "data": {
            "text/plain": [
              "        ID CODE_GENDER FLAG_OWN_CAR FLAG_OWN_REALTY  CNT_CHILDREN  \\\n",
              "0  5008804           M            Y               Y             0   \n",
              "1  5008805           M            Y               Y             0   \n",
              "2  5008806           M            Y               Y             0   \n",
              "3  5008808           F            N               Y             0   \n",
              "4  5008809           F            N               Y             0   \n",
              "\n",
              "   AMT_INCOME_TOTAL      NAME_INCOME_TYPE            NAME_EDUCATION_TYPE  \\\n",
              "0          427500.0               Working               Higher education   \n",
              "1          427500.0               Working               Higher education   \n",
              "2          112500.0               Working  Secondary / secondary special   \n",
              "3          270000.0  Commercial associate  Secondary / secondary special   \n",
              "4          270000.0  Commercial associate  Secondary / secondary special   \n",
              "\n",
              "     NAME_FAMILY_STATUS  NAME_HOUSING_TYPE  DAYS_BIRTH  DAYS_EMPLOYED  \\\n",
              "0        Civil marriage   Rented apartment    -12005.0        -4542.0   \n",
              "1        Civil marriage   Rented apartment    -12005.0        -4542.0   \n",
              "2               Married  House / apartment    -21474.0        -1134.0   \n",
              "3  Single / not married  House / apartment    -19110.0        -3051.0   \n",
              "4  Single / not married  House / apartment    -19110.0        -3051.0   \n",
              "\n",
              "   FLAG_MOBIL  FLAG_WORK_PHONE  FLAG_PHONE  FLAG_EMAIL OCCUPATION_TYPE  \\\n",
              "0         1.0              1.0         0.0         0.0             NaN   \n",
              "1         1.0              1.0         0.0         0.0             NaN   \n",
              "2         1.0              0.0         0.0         0.0  Security staff   \n",
              "3         1.0              0.0         1.0         1.0     Sales staff   \n",
              "4         1.0              0.0         1.0         1.0     Sales staff   \n",
              "\n",
              "   CNT_FAM_MEMBERS  \n",
              "0              2.0  \n",
              "1              2.0  \n",
              "2              2.0  \n",
              "3              1.0  \n",
              "4              1.0  "
            ],
            "text/html": [
              "\n",
              "  <div id=\"df-836d952a-bbe8-493b-be50-f777219e5fa8\">\n",
              "    <div class=\"colab-df-container\">\n",
              "      <div>\n",
              "<style scoped>\n",
              "    .dataframe tbody tr th:only-of-type {\n",
              "        vertical-align: middle;\n",
              "    }\n",
              "\n",
              "    .dataframe tbody tr th {\n",
              "        vertical-align: top;\n",
              "    }\n",
              "\n",
              "    .dataframe thead th {\n",
              "        text-align: right;\n",
              "    }\n",
              "</style>\n",
              "<table border=\"1\" class=\"dataframe\">\n",
              "  <thead>\n",
              "    <tr style=\"text-align: right;\">\n",
              "      <th></th>\n",
              "      <th>ID</th>\n",
              "      <th>CODE_GENDER</th>\n",
              "      <th>FLAG_OWN_CAR</th>\n",
              "      <th>FLAG_OWN_REALTY</th>\n",
              "      <th>CNT_CHILDREN</th>\n",
              "      <th>AMT_INCOME_TOTAL</th>\n",
              "      <th>NAME_INCOME_TYPE</th>\n",
              "      <th>NAME_EDUCATION_TYPE</th>\n",
              "      <th>NAME_FAMILY_STATUS</th>\n",
              "      <th>NAME_HOUSING_TYPE</th>\n",
              "      <th>DAYS_BIRTH</th>\n",
              "      <th>DAYS_EMPLOYED</th>\n",
              "      <th>FLAG_MOBIL</th>\n",
              "      <th>FLAG_WORK_PHONE</th>\n",
              "      <th>FLAG_PHONE</th>\n",
              "      <th>FLAG_EMAIL</th>\n",
              "      <th>OCCUPATION_TYPE</th>\n",
              "      <th>CNT_FAM_MEMBERS</th>\n",
              "    </tr>\n",
              "  </thead>\n",
              "  <tbody>\n",
              "    <tr>\n",
              "      <th>0</th>\n",
              "      <td>5008804</td>\n",
              "      <td>M</td>\n",
              "      <td>Y</td>\n",
              "      <td>Y</td>\n",
              "      <td>0</td>\n",
              "      <td>427500.0</td>\n",
              "      <td>Working</td>\n",
              "      <td>Higher education</td>\n",
              "      <td>Civil marriage</td>\n",
              "      <td>Rented apartment</td>\n",
              "      <td>-12005.0</td>\n",
              "      <td>-4542.0</td>\n",
              "      <td>1.0</td>\n",
              "      <td>1.0</td>\n",
              "      <td>0.0</td>\n",
              "      <td>0.0</td>\n",
              "      <td>NaN</td>\n",
              "      <td>2.0</td>\n",
              "    </tr>\n",
              "    <tr>\n",
              "      <th>1</th>\n",
              "      <td>5008805</td>\n",
              "      <td>M</td>\n",
              "      <td>Y</td>\n",
              "      <td>Y</td>\n",
              "      <td>0</td>\n",
              "      <td>427500.0</td>\n",
              "      <td>Working</td>\n",
              "      <td>Higher education</td>\n",
              "      <td>Civil marriage</td>\n",
              "      <td>Rented apartment</td>\n",
              "      <td>-12005.0</td>\n",
              "      <td>-4542.0</td>\n",
              "      <td>1.0</td>\n",
              "      <td>1.0</td>\n",
              "      <td>0.0</td>\n",
              "      <td>0.0</td>\n",
              "      <td>NaN</td>\n",
              "      <td>2.0</td>\n",
              "    </tr>\n",
              "    <tr>\n",
              "      <th>2</th>\n",
              "      <td>5008806</td>\n",
              "      <td>M</td>\n",
              "      <td>Y</td>\n",
              "      <td>Y</td>\n",
              "      <td>0</td>\n",
              "      <td>112500.0</td>\n",
              "      <td>Working</td>\n",
              "      <td>Secondary / secondary special</td>\n",
              "      <td>Married</td>\n",
              "      <td>House / apartment</td>\n",
              "      <td>-21474.0</td>\n",
              "      <td>-1134.0</td>\n",
              "      <td>1.0</td>\n",
              "      <td>0.0</td>\n",
              "      <td>0.0</td>\n",
              "      <td>0.0</td>\n",
              "      <td>Security staff</td>\n",
              "      <td>2.0</td>\n",
              "    </tr>\n",
              "    <tr>\n",
              "      <th>3</th>\n",
              "      <td>5008808</td>\n",
              "      <td>F</td>\n",
              "      <td>N</td>\n",
              "      <td>Y</td>\n",
              "      <td>0</td>\n",
              "      <td>270000.0</td>\n",
              "      <td>Commercial associate</td>\n",
              "      <td>Secondary / secondary special</td>\n",
              "      <td>Single / not married</td>\n",
              "      <td>House / apartment</td>\n",
              "      <td>-19110.0</td>\n",
              "      <td>-3051.0</td>\n",
              "      <td>1.0</td>\n",
              "      <td>0.0</td>\n",
              "      <td>1.0</td>\n",
              "      <td>1.0</td>\n",
              "      <td>Sales staff</td>\n",
              "      <td>1.0</td>\n",
              "    </tr>\n",
              "    <tr>\n",
              "      <th>4</th>\n",
              "      <td>5008809</td>\n",
              "      <td>F</td>\n",
              "      <td>N</td>\n",
              "      <td>Y</td>\n",
              "      <td>0</td>\n",
              "      <td>270000.0</td>\n",
              "      <td>Commercial associate</td>\n",
              "      <td>Secondary / secondary special</td>\n",
              "      <td>Single / not married</td>\n",
              "      <td>House / apartment</td>\n",
              "      <td>-19110.0</td>\n",
              "      <td>-3051.0</td>\n",
              "      <td>1.0</td>\n",
              "      <td>0.0</td>\n",
              "      <td>1.0</td>\n",
              "      <td>1.0</td>\n",
              "      <td>Sales staff</td>\n",
              "      <td>1.0</td>\n",
              "    </tr>\n",
              "  </tbody>\n",
              "</table>\n",
              "</div>\n",
              "      <button class=\"colab-df-convert\" onclick=\"convertToInteractive('df-836d952a-bbe8-493b-be50-f777219e5fa8')\"\n",
              "              title=\"Convert this dataframe to an interactive table.\"\n",
              "              style=\"display:none;\">\n",
              "        \n",
              "  <svg xmlns=\"http://www.w3.org/2000/svg\" height=\"24px\"viewBox=\"0 0 24 24\"\n",
              "       width=\"24px\">\n",
              "    <path d=\"M0 0h24v24H0V0z\" fill=\"none\"/>\n",
              "    <path d=\"M18.56 5.44l.94 2.06.94-2.06 2.06-.94-2.06-.94-.94-2.06-.94 2.06-2.06.94zm-11 1L8.5 8.5l.94-2.06 2.06-.94-2.06-.94L8.5 2.5l-.94 2.06-2.06.94zm10 10l.94 2.06.94-2.06 2.06-.94-2.06-.94-.94-2.06-.94 2.06-2.06.94z\"/><path d=\"M17.41 7.96l-1.37-1.37c-.4-.4-.92-.59-1.43-.59-.52 0-1.04.2-1.43.59L10.3 9.45l-7.72 7.72c-.78.78-.78 2.05 0 2.83L4 21.41c.39.39.9.59 1.41.59.51 0 1.02-.2 1.41-.59l7.78-7.78 2.81-2.81c.8-.78.8-2.07 0-2.86zM5.41 20L4 18.59l7.72-7.72 1.47 1.35L5.41 20z\"/>\n",
              "  </svg>\n",
              "      </button>\n",
              "      \n",
              "  <style>\n",
              "    .colab-df-container {\n",
              "      display:flex;\n",
              "      flex-wrap:wrap;\n",
              "      gap: 12px;\n",
              "    }\n",
              "\n",
              "    .colab-df-convert {\n",
              "      background-color: #E8F0FE;\n",
              "      border: none;\n",
              "      border-radius: 50%;\n",
              "      cursor: pointer;\n",
              "      display: none;\n",
              "      fill: #1967D2;\n",
              "      height: 32px;\n",
              "      padding: 0 0 0 0;\n",
              "      width: 32px;\n",
              "    }\n",
              "\n",
              "    .colab-df-convert:hover {\n",
              "      background-color: #E2EBFA;\n",
              "      box-shadow: 0px 1px 2px rgba(60, 64, 67, 0.3), 0px 1px 3px 1px rgba(60, 64, 67, 0.15);\n",
              "      fill: #174EA6;\n",
              "    }\n",
              "\n",
              "    [theme=dark] .colab-df-convert {\n",
              "      background-color: #3B4455;\n",
              "      fill: #D2E3FC;\n",
              "    }\n",
              "\n",
              "    [theme=dark] .colab-df-convert:hover {\n",
              "      background-color: #434B5C;\n",
              "      box-shadow: 0px 1px 3px 1px rgba(0, 0, 0, 0.15);\n",
              "      filter: drop-shadow(0px 1px 2px rgba(0, 0, 0, 0.3));\n",
              "      fill: #FFFFFF;\n",
              "    }\n",
              "  </style>\n",
              "\n",
              "      <script>\n",
              "        const buttonEl =\n",
              "          document.querySelector('#df-836d952a-bbe8-493b-be50-f777219e5fa8 button.colab-df-convert');\n",
              "        buttonEl.style.display =\n",
              "          google.colab.kernel.accessAllowed ? 'block' : 'none';\n",
              "\n",
              "        async function convertToInteractive(key) {\n",
              "          const element = document.querySelector('#df-836d952a-bbe8-493b-be50-f777219e5fa8');\n",
              "          const dataTable =\n",
              "            await google.colab.kernel.invokeFunction('convertToInteractive',\n",
              "                                                     [key], {});\n",
              "          if (!dataTable) return;\n",
              "\n",
              "          const docLinkHtml = 'Like what you see? Visit the ' +\n",
              "            '<a target=\"_blank\" href=https://colab.research.google.com/notebooks/data_table.ipynb>data table notebook</a>'\n",
              "            + ' to learn more about interactive tables.';\n",
              "          element.innerHTML = '';\n",
              "          dataTable['output_type'] = 'display_data';\n",
              "          await google.colab.output.renderOutput(dataTable, element);\n",
              "          const docLink = document.createElement('div');\n",
              "          docLink.innerHTML = docLinkHtml;\n",
              "          element.appendChild(docLink);\n",
              "        }\n",
              "      </script>\n",
              "    </div>\n",
              "  </div>\n",
              "  "
            ]
          },
          "metadata": {},
          "execution_count": 4
        }
      ],
      "source": [
        "app.head()"
      ]
    },
    {
      "cell_type": "code",
      "execution_count": null,
      "id": "based-retailer",
      "metadata": {
        "execution": {
          "iopub.execute_input": "2021-12-10T02:28:25.437613Z",
          "iopub.status.busy": "2021-12-10T02:28:25.436587Z",
          "iopub.status.idle": "2021-12-10T02:28:25.441714Z",
          "shell.execute_reply": "2021-12-10T02:28:25.441009Z",
          "shell.execute_reply.started": "2021-12-10T02:09:44.025747Z"
        },
        "papermill": {
          "duration": 0.039269,
          "end_time": "2021-12-10T02:28:25.441878",
          "exception": false,
          "start_time": "2021-12-10T02:28:25.402609",
          "status": "completed"
        },
        "tags": [],
        "colab": {
          "base_uri": "https://localhost:8080/"
        },
        "id": "based-retailer",
        "outputId": "5dbee1f1-561a-4af1-f354-ecff7ad04243"
      },
      "outputs": [
        {
          "output_type": "execute_result",
          "data": {
            "text/plain": [
              "Index(['ID', 'CODE_GENDER', 'FLAG_OWN_CAR', 'FLAG_OWN_REALTY', 'CNT_CHILDREN',\n",
              "       'AMT_INCOME_TOTAL', 'NAME_INCOME_TYPE', 'NAME_EDUCATION_TYPE',\n",
              "       'NAME_FAMILY_STATUS', 'NAME_HOUSING_TYPE', 'DAYS_BIRTH',\n",
              "       'DAYS_EMPLOYED', 'FLAG_MOBIL', 'FLAG_WORK_PHONE', 'FLAG_PHONE',\n",
              "       'FLAG_EMAIL', 'OCCUPATION_TYPE', 'CNT_FAM_MEMBERS'],\n",
              "      dtype='object')"
            ]
          },
          "metadata": {},
          "execution_count": 5
        }
      ],
      "source": [
        "app.columns"
      ]
    },
    {
      "cell_type": "code",
      "execution_count": null,
      "id": "beneficial-public",
      "metadata": {
        "execution": {
          "iopub.execute_input": "2021-12-10T02:28:25.508004Z",
          "iopub.status.busy": "2021-12-10T02:28:25.507277Z",
          "iopub.status.idle": "2021-12-10T02:28:26.016945Z",
          "shell.execute_reply": "2021-12-10T02:28:26.015948Z",
          "shell.execute_reply.started": "2021-12-10T02:09:44.035812Z"
        },
        "papermill": {
          "duration": 0.546734,
          "end_time": "2021-12-10T02:28:26.017161",
          "exception": false,
          "start_time": "2021-12-10T02:28:25.470427",
          "status": "completed"
        },
        "tags": [],
        "id": "beneficial-public"
      },
      "outputs": [],
      "source": [
        "# dropping duplicate rows\n",
        "app.drop_duplicates(subset = ['CODE_GENDER', 'FLAG_OWN_CAR', 'FLAG_OWN_REALTY', 'CNT_CHILDREN',\n",
        "       'AMT_INCOME_TOTAL', 'NAME_INCOME_TYPE', 'NAME_EDUCATION_TYPE',\n",
        "       'NAME_FAMILY_STATUS', 'NAME_HOUSING_TYPE', 'DAYS_BIRTH',\n",
        "       'DAYS_EMPLOYED', 'FLAG_MOBIL', 'FLAG_WORK_PHONE', 'FLAG_PHONE',\n",
        "       'FLAG_EMAIL', 'OCCUPATION_TYPE', 'CNT_FAM_MEMBERS'], keep = 'first', inplace = True)"
      ]
    },
    {
      "cell_type": "markdown",
      "id": "nervous-cuisine",
      "metadata": {
        "papermill": {
          "duration": 0.028189,
          "end_time": "2021-12-10T02:28:26.074946",
          "exception": false,
          "start_time": "2021-12-10T02:28:26.046757",
          "status": "completed"
        },
        "tags": [],
        "id": "nervous-cuisine"
      },
      "source": [
        "Flag_own_realty will be drop from dataset in order to consider credit applicants asking for a mortagage loan, but using credit card risk criteria, i,e without collateral"
      ]
    },
    {
      "cell_type": "code",
      "execution_count": null,
      "id": "illegal-hampshire",
      "metadata": {
        "execution": {
          "iopub.execute_input": "2021-12-10T02:28:26.138242Z",
          "iopub.status.busy": "2021-12-10T02:28:26.137522Z",
          "iopub.status.idle": "2021-12-10T02:28:26.155457Z",
          "shell.execute_reply": "2021-12-10T02:28:26.155990Z",
          "shell.execute_reply.started": "2021-12-10T02:09:44.428861Z"
        },
        "papermill": {
          "duration": 0.052567,
          "end_time": "2021-12-10T02:28:26.156183",
          "exception": false,
          "start_time": "2021-12-10T02:28:26.103616",
          "status": "completed"
        },
        "tags": [],
        "colab": {
          "base_uri": "https://localhost:8080/"
        },
        "id": "illegal-hampshire",
        "outputId": "364f6377-2023-470d-8f46-7deaaff25ecf"
      },
      "outputs": [
        {
          "output_type": "execute_result",
          "data": {
            "text/plain": [
              "Index(['ID', 'CODE_GENDER', 'FLAG_OWN_CAR', 'CNT_CHILDREN', 'AMT_INCOME_TOTAL',\n",
              "       'NAME_INCOME_TYPE', 'NAME_EDUCATION_TYPE', 'NAME_FAMILY_STATUS',\n",
              "       'NAME_HOUSING_TYPE', 'DAYS_BIRTH', 'DAYS_EMPLOYED', 'FLAG_MOBIL',\n",
              "       'FLAG_WORK_PHONE', 'FLAG_PHONE', 'FLAG_EMAIL', 'OCCUPATION_TYPE',\n",
              "       'CNT_FAM_MEMBERS'],\n",
              "      dtype='object')"
            ]
          },
          "metadata": {},
          "execution_count": 7
        }
      ],
      "source": [
        "app.drop('FLAG_OWN_REALTY', axis = 1, inplace = True)\n",
        "app.columns"
      ]
    },
    {
      "cell_type": "code",
      "execution_count": null,
      "id": "spare-intranet",
      "metadata": {
        "execution": {
          "iopub.execute_input": "2021-12-10T02:28:26.217124Z",
          "iopub.status.busy": "2021-12-10T02:28:26.216385Z",
          "iopub.status.idle": "2021-12-10T02:28:26.222077Z",
          "shell.execute_reply": "2021-12-10T02:28:26.222812Z",
          "shell.execute_reply.started": "2021-12-10T02:09:44.448726Z"
        },
        "papermill": {
          "duration": 0.038781,
          "end_time": "2021-12-10T02:28:26.223036",
          "exception": false,
          "start_time": "2021-12-10T02:28:26.184255",
          "status": "completed"
        },
        "tags": [],
        "colab": {
          "base_uri": "https://localhost:8080/"
        },
        "id": "spare-intranet",
        "outputId": "f94ebb8a-75a0-4545-8de3-35ef50b59c6b"
      },
      "outputs": [
        {
          "output_type": "execute_result",
          "data": {
            "text/plain": [
              "(24342, 17)"
            ]
          },
          "metadata": {},
          "execution_count": 8
        }
      ],
      "source": [
        "app.shape"
      ]
    },
    {
      "cell_type": "code",
      "execution_count": null,
      "id": "alike-series",
      "metadata": {
        "execution": {
          "iopub.execute_input": "2021-12-10T02:28:26.349503Z",
          "iopub.status.busy": "2021-12-10T02:28:26.348395Z",
          "iopub.status.idle": "2021-12-10T02:28:26.369692Z",
          "shell.execute_reply": "2021-12-10T02:28:26.370341Z",
          "shell.execute_reply.started": "2021-12-10T02:09:44.456558Z"
        },
        "papermill": {
          "duration": 0.118127,
          "end_time": "2021-12-10T02:28:26.370588",
          "exception": false,
          "start_time": "2021-12-10T02:28:26.252461",
          "status": "completed"
        },
        "tags": [],
        "id": "alike-series",
        "outputId": "2127a1b1-1e3f-48f7-e001-901409c8dc38"
      },
      "outputs": [
        {
          "name": "stdout",
          "output_type": "stream",
          "text": [
            "<class 'pandas.core.frame.DataFrame'>\n",
            "Int64Index: 90085 entries, 0 to 438553\n",
            "Data columns (total 17 columns):\n",
            " #   Column               Non-Null Count  Dtype  \n",
            "---  ------               --------------  -----  \n",
            " 0   ID                   90085 non-null  int64  \n",
            " 1   CODE_GENDER          90085 non-null  object \n",
            " 2   FLAG_OWN_CAR         90085 non-null  object \n",
            " 3   CNT_CHILDREN         90085 non-null  int64  \n",
            " 4   AMT_INCOME_TOTAL     90085 non-null  float64\n",
            " 5   NAME_INCOME_TYPE     90085 non-null  object \n",
            " 6   NAME_EDUCATION_TYPE  90085 non-null  object \n",
            " 7   NAME_FAMILY_STATUS   90085 non-null  object \n",
            " 8   NAME_HOUSING_TYPE    90085 non-null  object \n",
            " 9   DAYS_BIRTH           90085 non-null  int64  \n",
            " 10  DAYS_EMPLOYED        90085 non-null  int64  \n",
            " 11  FLAG_MOBIL           90085 non-null  int64  \n",
            " 12  FLAG_WORK_PHONE      90085 non-null  int64  \n",
            " 13  FLAG_PHONE           90085 non-null  int64  \n",
            " 14  FLAG_EMAIL           90085 non-null  int64  \n",
            " 15  OCCUPATION_TYPE      62608 non-null  object \n",
            " 16  CNT_FAM_MEMBERS      90085 non-null  float64\n",
            "dtypes: float64(2), int64(8), object(7)\n",
            "memory usage: 12.4+ MB\n"
          ]
        }
      ],
      "source": [
        "app.info()"
      ]
    },
    {
      "cell_type": "code",
      "execution_count": null,
      "id": "civilian-criterion",
      "metadata": {
        "execution": {
          "iopub.execute_input": "2021-12-10T02:28:26.440806Z",
          "iopub.status.busy": "2021-12-10T02:28:26.440136Z",
          "iopub.status.idle": "2021-12-10T02:28:26.443454Z",
          "shell.execute_reply": "2021-12-10T02:28:26.443984Z",
          "shell.execute_reply.started": "2021-12-10T02:09:44.535584Z"
        },
        "papermill": {
          "duration": 0.042751,
          "end_time": "2021-12-10T02:28:26.444172",
          "exception": false,
          "start_time": "2021-12-10T02:28:26.401421",
          "status": "completed"
        },
        "tags": [],
        "id": "civilian-criterion",
        "outputId": "b88ef94a-fddb-44e6-d4ed-28e580aea8dd"
      },
      "outputs": [
        {
          "data": {
            "text/html": [
              "<div>\n",
              "<style scoped>\n",
              "    .dataframe tbody tr th:only-of-type {\n",
              "        vertical-align: middle;\n",
              "    }\n",
              "\n",
              "    .dataframe tbody tr th {\n",
              "        vertical-align: top;\n",
              "    }\n",
              "\n",
              "    .dataframe thead th {\n",
              "        text-align: right;\n",
              "    }\n",
              "</style>\n",
              "<table border=\"1\" class=\"dataframe\">\n",
              "  <thead>\n",
              "    <tr style=\"text-align: right;\">\n",
              "      <th></th>\n",
              "      <th>ID</th>\n",
              "      <th>MONTHS_BALANCE</th>\n",
              "      <th>STATUS</th>\n",
              "    </tr>\n",
              "  </thead>\n",
              "  <tbody>\n",
              "    <tr>\n",
              "      <th>0</th>\n",
              "      <td>5001711</td>\n",
              "      <td>0</td>\n",
              "      <td>X</td>\n",
              "    </tr>\n",
              "    <tr>\n",
              "      <th>1</th>\n",
              "      <td>5001711</td>\n",
              "      <td>-1</td>\n",
              "      <td>0</td>\n",
              "    </tr>\n",
              "    <tr>\n",
              "      <th>2</th>\n",
              "      <td>5001711</td>\n",
              "      <td>-2</td>\n",
              "      <td>0</td>\n",
              "    </tr>\n",
              "    <tr>\n",
              "      <th>3</th>\n",
              "      <td>5001711</td>\n",
              "      <td>-3</td>\n",
              "      <td>0</td>\n",
              "    </tr>\n",
              "    <tr>\n",
              "      <th>4</th>\n",
              "      <td>5001712</td>\n",
              "      <td>0</td>\n",
              "      <td>C</td>\n",
              "    </tr>\n",
              "  </tbody>\n",
              "</table>\n",
              "</div>"
            ],
            "text/plain": [
              "        ID  MONTHS_BALANCE STATUS\n",
              "0  5001711               0      X\n",
              "1  5001711              -1      0\n",
              "2  5001711              -2      0\n",
              "3  5001711              -3      0\n",
              "4  5001712               0      C"
            ]
          },
          "execution_count": 9,
          "metadata": {},
          "output_type": "execute_result"
        }
      ],
      "source": [
        "credit.head()"
      ]
    },
    {
      "cell_type": "code",
      "execution_count": null,
      "id": "drawn-unemployment",
      "metadata": {
        "execution": {
          "iopub.execute_input": "2021-12-10T02:28:26.506636Z",
          "iopub.status.busy": "2021-12-10T02:28:26.505969Z",
          "iopub.status.idle": "2021-12-10T02:28:26.511495Z",
          "shell.execute_reply": "2021-12-10T02:28:26.512031Z",
          "shell.execute_reply.started": "2021-12-10T02:09:44.551594Z"
        },
        "papermill": {
          "duration": 0.038545,
          "end_time": "2021-12-10T02:28:26.512203",
          "exception": false,
          "start_time": "2021-12-10T02:28:26.473658",
          "status": "completed"
        },
        "tags": [],
        "id": "drawn-unemployment",
        "outputId": "81371178-383b-410f-e3bd-5f54fdd022b8"
      },
      "outputs": [
        {
          "data": {
            "text/plain": [
              "(1048575, 3)"
            ]
          },
          "execution_count": 10,
          "metadata": {},
          "output_type": "execute_result"
        }
      ],
      "source": [
        "credit.shape"
      ]
    },
    {
      "cell_type": "code",
      "execution_count": null,
      "id": "mental-turtle",
      "metadata": {
        "execution": {
          "iopub.execute_input": "2021-12-10T02:28:26.575317Z",
          "iopub.status.busy": "2021-12-10T02:28:26.574638Z",
          "iopub.status.idle": "2021-12-10T02:28:26.694691Z",
          "shell.execute_reply": "2021-12-10T02:28:26.695174Z",
          "shell.execute_reply.started": "2021-12-10T02:09:44.567536Z"
        },
        "papermill": {
          "duration": 0.153578,
          "end_time": "2021-12-10T02:28:26.695375",
          "exception": false,
          "start_time": "2021-12-10T02:28:26.541797",
          "status": "completed"
        },
        "tags": [],
        "id": "mental-turtle",
        "outputId": "6ee29424-e59e-44e4-9ea1-e5d7d095f5d7"
      },
      "outputs": [
        {
          "name": "stdout",
          "output_type": "stream",
          "text": [
            "<class 'pandas.core.frame.DataFrame'>\n",
            "RangeIndex: 1048575 entries, 0 to 1048574\n",
            "Data columns (total 3 columns):\n",
            " #   Column          Non-Null Count    Dtype \n",
            "---  ------          --------------    ----- \n",
            " 0   ID              1048575 non-null  int64 \n",
            " 1   MONTHS_BALANCE  1048575 non-null  int64 \n",
            " 2   STATUS          1048575 non-null  object\n",
            "dtypes: int64(2), object(1)\n",
            "memory usage: 24.0+ MB\n"
          ]
        }
      ],
      "source": [
        "credit.info()"
      ]
    },
    {
      "cell_type": "code",
      "execution_count": null,
      "id": "periodic-protest",
      "metadata": {
        "execution": {
          "iopub.execute_input": "2021-12-10T02:28:26.770063Z",
          "iopub.status.busy": "2021-12-10T02:28:26.769376Z",
          "iopub.status.idle": "2021-12-10T02:28:33.012560Z",
          "shell.execute_reply": "2021-12-10T02:28:33.011870Z",
          "shell.execute_reply.started": "2021-12-10T02:09:44.682309Z"
        },
        "papermill": {
          "duration": 6.286556,
          "end_time": "2021-12-10T02:28:33.012704",
          "exception": false,
          "start_time": "2021-12-10T02:28:26.726148",
          "status": "completed"
        },
        "tags": [],
        "id": "periodic-protest"
      },
      "outputs": [],
      "source": [
        "# Data frame to analyze length of time since initial approval of credit card\n",
        "# Shows number of past dues, paid off and no loan status.\n",
        "grouped = credit.groupby('ID')\n",
        "\n",
        "pivot_tb = credit.pivot(index = 'ID', columns = 'MONTHS_BALANCE', values = 'STATUS')\n",
        "pivot_tb['open_month'] = grouped['MONTHS_BALANCE'].min()\n",
        "pivot_tb['end_month'] = grouped['MONTHS_BALANCE'].max()\n",
        "pivot_tb['window'] = pivot_tb['end_month'] - pivot_tb['open_month']\n",
        "pivot_tb['window'] += 1 # Adding 1 since month starts at 0.\n",
        "\n",
        "#Counting number of past dues, paid offs and no loans.\n",
        "pivot_tb['paid_off'] = pivot_tb[pivot_tb.iloc[:,0:61] == 'C'].count(axis = 1)\n",
        "pivot_tb['pastdue_1-29'] = pivot_tb[pivot_tb.iloc[:,0:61] == '0'].count(axis = 1)\n",
        "pivot_tb['pastdue_30-59'] = pivot_tb[pivot_tb.iloc[:,0:61] == '1'].count(axis = 1)\n",
        "pivot_tb['pastdue_60-89'] = pivot_tb[pivot_tb.iloc[:,0:61] == '2'].count(axis = 1)\n",
        "pivot_tb['pastdue_90-119'] = pivot_tb[pivot_tb.iloc[:,0:61] == '3'].count(axis = 1)\n",
        "pivot_tb['pastdue_120-149'] = pivot_tb[pivot_tb.iloc[:,0:61] == '4'].count(axis = 1)\n",
        "pivot_tb['pastdue_over_150'] = pivot_tb[pivot_tb.iloc[:,0:61] == '5'].count(axis = 1)\n",
        "pivot_tb['no_loan'] = pivot_tb[pivot_tb.iloc[:,0:61] == 'X'].count(axis = 1)\n",
        "#Setting Id column to merge with app data.\n",
        "pivot_tb['ID'] = pivot_tb.index\n",
        "\n"
      ]
    },
    {
      "cell_type": "code",
      "execution_count": null,
      "id": "polyphonic-family",
      "metadata": {
        "execution": {
          "iopub.execute_input": "2021-12-10T02:28:33.091137Z",
          "iopub.status.busy": "2021-12-10T02:28:33.079982Z",
          "iopub.status.idle": "2021-12-10T02:28:33.105257Z",
          "shell.execute_reply": "2021-12-10T02:28:33.105799Z",
          "shell.execute_reply.started": "2021-12-10T02:09:49.624775Z"
        },
        "papermill": {
          "duration": 0.063382,
          "end_time": "2021-12-10T02:28:33.105967",
          "exception": false,
          "start_time": "2021-12-10T02:28:33.042585",
          "status": "completed"
        },
        "tags": [],
        "id": "polyphonic-family",
        "outputId": "df3bfc80-feca-468e-948f-dcd2f4b11640"
      },
      "outputs": [
        {
          "data": {
            "text/html": [
              "<div>\n",
              "<style scoped>\n",
              "    .dataframe tbody tr th:only-of-type {\n",
              "        vertical-align: middle;\n",
              "    }\n",
              "\n",
              "    .dataframe tbody tr th {\n",
              "        vertical-align: top;\n",
              "    }\n",
              "\n",
              "    .dataframe thead th {\n",
              "        text-align: right;\n",
              "    }\n",
              "</style>\n",
              "<table border=\"1\" class=\"dataframe\">\n",
              "  <thead>\n",
              "    <tr style=\"text-align: right;\">\n",
              "      <th>MONTHS_BALANCE</th>\n",
              "      <th>-60</th>\n",
              "      <th>-59</th>\n",
              "      <th>-58</th>\n",
              "      <th>-57</th>\n",
              "      <th>-56</th>\n",
              "      <th>-55</th>\n",
              "      <th>-54</th>\n",
              "      <th>-53</th>\n",
              "      <th>-52</th>\n",
              "      <th>-51</th>\n",
              "      <th>...</th>\n",
              "      <th>window</th>\n",
              "      <th>paid_off</th>\n",
              "      <th>pastdue_1-29</th>\n",
              "      <th>pastdue_30-59</th>\n",
              "      <th>pastdue_60-89</th>\n",
              "      <th>pastdue_90-119</th>\n",
              "      <th>pastdue_120-149</th>\n",
              "      <th>pastdue_over_150</th>\n",
              "      <th>no_loan</th>\n",
              "      <th>ID</th>\n",
              "    </tr>\n",
              "    <tr>\n",
              "      <th>ID</th>\n",
              "      <th></th>\n",
              "      <th></th>\n",
              "      <th></th>\n",
              "      <th></th>\n",
              "      <th></th>\n",
              "      <th></th>\n",
              "      <th></th>\n",
              "      <th></th>\n",
              "      <th></th>\n",
              "      <th></th>\n",
              "      <th></th>\n",
              "      <th></th>\n",
              "      <th></th>\n",
              "      <th></th>\n",
              "      <th></th>\n",
              "      <th></th>\n",
              "      <th></th>\n",
              "      <th></th>\n",
              "      <th></th>\n",
              "      <th></th>\n",
              "      <th></th>\n",
              "    </tr>\n",
              "  </thead>\n",
              "  <tbody>\n",
              "    <tr>\n",
              "      <th>5001711</th>\n",
              "      <td>NaN</td>\n",
              "      <td>NaN</td>\n",
              "      <td>NaN</td>\n",
              "      <td>NaN</td>\n",
              "      <td>NaN</td>\n",
              "      <td>NaN</td>\n",
              "      <td>NaN</td>\n",
              "      <td>NaN</td>\n",
              "      <td>NaN</td>\n",
              "      <td>NaN</td>\n",
              "      <td>...</td>\n",
              "      <td>4</td>\n",
              "      <td>0</td>\n",
              "      <td>3</td>\n",
              "      <td>0</td>\n",
              "      <td>0</td>\n",
              "      <td>0</td>\n",
              "      <td>0</td>\n",
              "      <td>0</td>\n",
              "      <td>1</td>\n",
              "      <td>5001711</td>\n",
              "    </tr>\n",
              "    <tr>\n",
              "      <th>5001712</th>\n",
              "      <td>NaN</td>\n",
              "      <td>NaN</td>\n",
              "      <td>NaN</td>\n",
              "      <td>NaN</td>\n",
              "      <td>NaN</td>\n",
              "      <td>NaN</td>\n",
              "      <td>NaN</td>\n",
              "      <td>NaN</td>\n",
              "      <td>NaN</td>\n",
              "      <td>NaN</td>\n",
              "      <td>...</td>\n",
              "      <td>19</td>\n",
              "      <td>9</td>\n",
              "      <td>10</td>\n",
              "      <td>0</td>\n",
              "      <td>0</td>\n",
              "      <td>0</td>\n",
              "      <td>0</td>\n",
              "      <td>0</td>\n",
              "      <td>0</td>\n",
              "      <td>5001712</td>\n",
              "    </tr>\n",
              "    <tr>\n",
              "      <th>5001713</th>\n",
              "      <td>NaN</td>\n",
              "      <td>NaN</td>\n",
              "      <td>NaN</td>\n",
              "      <td>NaN</td>\n",
              "      <td>NaN</td>\n",
              "      <td>NaN</td>\n",
              "      <td>NaN</td>\n",
              "      <td>NaN</td>\n",
              "      <td>NaN</td>\n",
              "      <td>NaN</td>\n",
              "      <td>...</td>\n",
              "      <td>22</td>\n",
              "      <td>0</td>\n",
              "      <td>0</td>\n",
              "      <td>0</td>\n",
              "      <td>0</td>\n",
              "      <td>0</td>\n",
              "      <td>0</td>\n",
              "      <td>0</td>\n",
              "      <td>22</td>\n",
              "      <td>5001713</td>\n",
              "    </tr>\n",
              "    <tr>\n",
              "      <th>5001714</th>\n",
              "      <td>NaN</td>\n",
              "      <td>NaN</td>\n",
              "      <td>NaN</td>\n",
              "      <td>NaN</td>\n",
              "      <td>NaN</td>\n",
              "      <td>NaN</td>\n",
              "      <td>NaN</td>\n",
              "      <td>NaN</td>\n",
              "      <td>NaN</td>\n",
              "      <td>NaN</td>\n",
              "      <td>...</td>\n",
              "      <td>15</td>\n",
              "      <td>0</td>\n",
              "      <td>0</td>\n",
              "      <td>0</td>\n",
              "      <td>0</td>\n",
              "      <td>0</td>\n",
              "      <td>0</td>\n",
              "      <td>0</td>\n",
              "      <td>15</td>\n",
              "      <td>5001714</td>\n",
              "    </tr>\n",
              "    <tr>\n",
              "      <th>5001715</th>\n",
              "      <td>NaN</td>\n",
              "      <td>X</td>\n",
              "      <td>X</td>\n",
              "      <td>X</td>\n",
              "      <td>X</td>\n",
              "      <td>X</td>\n",
              "      <td>X</td>\n",
              "      <td>X</td>\n",
              "      <td>X</td>\n",
              "      <td>X</td>\n",
              "      <td>...</td>\n",
              "      <td>60</td>\n",
              "      <td>0</td>\n",
              "      <td>0</td>\n",
              "      <td>0</td>\n",
              "      <td>0</td>\n",
              "      <td>0</td>\n",
              "      <td>0</td>\n",
              "      <td>0</td>\n",
              "      <td>60</td>\n",
              "      <td>5001715</td>\n",
              "    </tr>\n",
              "    <tr>\n",
              "      <th>5001717</th>\n",
              "      <td>NaN</td>\n",
              "      <td>NaN</td>\n",
              "      <td>NaN</td>\n",
              "      <td>NaN</td>\n",
              "      <td>NaN</td>\n",
              "      <td>NaN</td>\n",
              "      <td>NaN</td>\n",
              "      <td>NaN</td>\n",
              "      <td>NaN</td>\n",
              "      <td>NaN</td>\n",
              "      <td>...</td>\n",
              "      <td>22</td>\n",
              "      <td>5</td>\n",
              "      <td>17</td>\n",
              "      <td>0</td>\n",
              "      <td>0</td>\n",
              "      <td>0</td>\n",
              "      <td>0</td>\n",
              "      <td>0</td>\n",
              "      <td>0</td>\n",
              "      <td>5001717</td>\n",
              "    </tr>\n",
              "    <tr>\n",
              "      <th>5001718</th>\n",
              "      <td>NaN</td>\n",
              "      <td>NaN</td>\n",
              "      <td>NaN</td>\n",
              "      <td>NaN</td>\n",
              "      <td>NaN</td>\n",
              "      <td>NaN</td>\n",
              "      <td>NaN</td>\n",
              "      <td>NaN</td>\n",
              "      <td>NaN</td>\n",
              "      <td>NaN</td>\n",
              "      <td>...</td>\n",
              "      <td>39</td>\n",
              "      <td>3</td>\n",
              "      <td>24</td>\n",
              "      <td>2</td>\n",
              "      <td>0</td>\n",
              "      <td>0</td>\n",
              "      <td>0</td>\n",
              "      <td>0</td>\n",
              "      <td>10</td>\n",
              "      <td>5001718</td>\n",
              "    </tr>\n",
              "    <tr>\n",
              "      <th>5001719</th>\n",
              "      <td>NaN</td>\n",
              "      <td>NaN</td>\n",
              "      <td>NaN</td>\n",
              "      <td>NaN</td>\n",
              "      <td>NaN</td>\n",
              "      <td>NaN</td>\n",
              "      <td>NaN</td>\n",
              "      <td>NaN</td>\n",
              "      <td>NaN</td>\n",
              "      <td>NaN</td>\n",
              "      <td>...</td>\n",
              "      <td>43</td>\n",
              "      <td>41</td>\n",
              "      <td>2</td>\n",
              "      <td>0</td>\n",
              "      <td>0</td>\n",
              "      <td>0</td>\n",
              "      <td>0</td>\n",
              "      <td>0</td>\n",
              "      <td>0</td>\n",
              "      <td>5001719</td>\n",
              "    </tr>\n",
              "    <tr>\n",
              "      <th>5001720</th>\n",
              "      <td>NaN</td>\n",
              "      <td>NaN</td>\n",
              "      <td>NaN</td>\n",
              "      <td>NaN</td>\n",
              "      <td>NaN</td>\n",
              "      <td>NaN</td>\n",
              "      <td>NaN</td>\n",
              "      <td>NaN</td>\n",
              "      <td>NaN</td>\n",
              "      <td>NaN</td>\n",
              "      <td>...</td>\n",
              "      <td>36</td>\n",
              "      <td>0</td>\n",
              "      <td>29</td>\n",
              "      <td>7</td>\n",
              "      <td>0</td>\n",
              "      <td>0</td>\n",
              "      <td>0</td>\n",
              "      <td>0</td>\n",
              "      <td>0</td>\n",
              "      <td>5001720</td>\n",
              "    </tr>\n",
              "    <tr>\n",
              "      <th>5001723</th>\n",
              "      <td>NaN</td>\n",
              "      <td>NaN</td>\n",
              "      <td>NaN</td>\n",
              "      <td>NaN</td>\n",
              "      <td>NaN</td>\n",
              "      <td>NaN</td>\n",
              "      <td>NaN</td>\n",
              "      <td>NaN</td>\n",
              "      <td>NaN</td>\n",
              "      <td>NaN</td>\n",
              "      <td>...</td>\n",
              "      <td>31</td>\n",
              "      <td>0</td>\n",
              "      <td>8</td>\n",
              "      <td>0</td>\n",
              "      <td>0</td>\n",
              "      <td>0</td>\n",
              "      <td>0</td>\n",
              "      <td>0</td>\n",
              "      <td>23</td>\n",
              "      <td>5001723</td>\n",
              "    </tr>\n",
              "  </tbody>\n",
              "</table>\n",
              "<p>10 rows × 73 columns</p>\n",
              "</div>"
            ],
            "text/plain": [
              "MONTHS_BALANCE  -60  -59  -58  -57  -56  -55  -54  -53  -52  -51  ... window  \\\n",
              "ID                                                                ...          \n",
              "5001711         NaN  NaN  NaN  NaN  NaN  NaN  NaN  NaN  NaN  NaN  ...      4   \n",
              "5001712         NaN  NaN  NaN  NaN  NaN  NaN  NaN  NaN  NaN  NaN  ...     19   \n",
              "5001713         NaN  NaN  NaN  NaN  NaN  NaN  NaN  NaN  NaN  NaN  ...     22   \n",
              "5001714         NaN  NaN  NaN  NaN  NaN  NaN  NaN  NaN  NaN  NaN  ...     15   \n",
              "5001715         NaN    X    X    X    X    X    X    X    X    X  ...     60   \n",
              "5001717         NaN  NaN  NaN  NaN  NaN  NaN  NaN  NaN  NaN  NaN  ...     22   \n",
              "5001718         NaN  NaN  NaN  NaN  NaN  NaN  NaN  NaN  NaN  NaN  ...     39   \n",
              "5001719         NaN  NaN  NaN  NaN  NaN  NaN  NaN  NaN  NaN  NaN  ...     43   \n",
              "5001720         NaN  NaN  NaN  NaN  NaN  NaN  NaN  NaN  NaN  NaN  ...     36   \n",
              "5001723         NaN  NaN  NaN  NaN  NaN  NaN  NaN  NaN  NaN  NaN  ...     31   \n",
              "\n",
              "MONTHS_BALANCE paid_off pastdue_1-29 pastdue_30-59 pastdue_60-89  \\\n",
              "ID                                                                 \n",
              "5001711               0            3             0             0   \n",
              "5001712               9           10             0             0   \n",
              "5001713               0            0             0             0   \n",
              "5001714               0            0             0             0   \n",
              "5001715               0            0             0             0   \n",
              "5001717               5           17             0             0   \n",
              "5001718               3           24             2             0   \n",
              "5001719              41            2             0             0   \n",
              "5001720               0           29             7             0   \n",
              "5001723               0            8             0             0   \n",
              "\n",
              "MONTHS_BALANCE pastdue_90-119 pastdue_120-149 pastdue_over_150 no_loan  \\\n",
              "ID                                                                       \n",
              "5001711                     0               0                0       1   \n",
              "5001712                     0               0                0       0   \n",
              "5001713                     0               0                0      22   \n",
              "5001714                     0               0                0      15   \n",
              "5001715                     0               0                0      60   \n",
              "5001717                     0               0                0       0   \n",
              "5001718                     0               0                0      10   \n",
              "5001719                     0               0                0       0   \n",
              "5001720                     0               0                0       0   \n",
              "5001723                     0               0                0      23   \n",
              "\n",
              "MONTHS_BALANCE       ID  \n",
              "ID                       \n",
              "5001711         5001711  \n",
              "5001712         5001712  \n",
              "5001713         5001713  \n",
              "5001714         5001714  \n",
              "5001715         5001715  \n",
              "5001717         5001717  \n",
              "5001718         5001718  \n",
              "5001719         5001719  \n",
              "5001720         5001720  \n",
              "5001723         5001723  \n",
              "\n",
              "[10 rows x 73 columns]"
            ]
          },
          "execution_count": 13,
          "metadata": {},
          "output_type": "execute_result"
        }
      ],
      "source": [
        "pivot_tb.head(10)"
      ]
    },
    {
      "cell_type": "markdown",
      "id": "offshore-example",
      "metadata": {
        "papermill": {
          "duration": 0.030198,
          "end_time": "2021-12-10T02:28:33.167187",
          "exception": false,
          "start_time": "2021-12-10T02:28:33.136989",
          "status": "completed"
        },
        "tags": [],
        "id": "offshore-example"
      },
      "source": [
        "## Data Cleansing"
      ]
    },
    {
      "cell_type": "code",
      "execution_count": null,
      "id": "composite-stephen",
      "metadata": {
        "execution": {
          "iopub.execute_input": "2021-12-10T02:28:33.232066Z",
          "iopub.status.busy": "2021-12-10T02:28:33.231119Z",
          "iopub.status.idle": "2021-12-10T02:28:33.241194Z",
          "shell.execute_reply": "2021-12-10T02:28:33.241854Z",
          "shell.execute_reply.started": "2021-12-10T02:09:49.658187Z"
        },
        "papermill": {
          "duration": 0.044115,
          "end_time": "2021-12-10T02:28:33.242032",
          "exception": false,
          "start_time": "2021-12-10T02:28:33.197917",
          "status": "completed"
        },
        "tags": [],
        "id": "composite-stephen"
      },
      "outputs": [],
      "source": [
        "def data_cleansing(data):\n",
        "    # Adding number of family members with number of children to get overall family members.\n",
        "    data['CNT_FAM_MEMBERS'] = data['CNT_FAM_MEMBERS'] + data['CNT_CHILDREN']\n",
        "    dropped_cols = ['FLAG_MOBIL', 'FLAG_WORK_PHONE', 'FLAG_PHONE',\n",
        "       'FLAG_EMAIL','OCCUPATION_TYPE','CNT_CHILDREN']\n",
        "    data = data.drop(dropped_cols, axis = 1)\n",
        "\n",
        "    #converting birth years and days employed to years.\n",
        "    data['DAYS_BIRTH'] = np.abs(data['DAYS_BIRTH']/365)\n",
        "    data['DAYS_EMPLOYED'] = data['DAYS_EMPLOYED']/365\n",
        "\n",
        "    #Cleaning up categorical values to lower the count of dummy variables.\n",
        "    housing_type = {'House / apartment' : 'House / apartment',\n",
        "                   'With parents': 'With parents',\n",
        "                    'Municipal apartment' : 'House / apartment',\n",
        "                    'Rented apartment': 'House / apartment',\n",
        "                    'Office apartment': 'House / apartment',\n",
        "                    'Co-op apartment': 'House / apartment'}\n",
        "\n",
        "    income_type = {'Commercial associate':'Working',\n",
        "                  'State servant':'Working',\n",
        "                  'Working':'Working',\n",
        "                  'Pensioner':'Pensioner',\n",
        "                  'Student':'Student'}\n",
        "    education_type = {'Secondary / secondary special':'secondary',\n",
        "                     'Lower secondary':'secondary',\n",
        "                     'Higher education':'Higher education',\n",
        "                     'Incomplete higher':'Higher education',\n",
        "                     'Academic degree':'Academic degree'}\n",
        "    family_status = {'Single / not married':'Single',\n",
        "                     'Separated':'Single',\n",
        "                     'Widow':'Single',\n",
        "                     'Civil marriage':'Married',\n",
        "                    'Married':'Married'}\n",
        "    data['NAME_HOUSING_TYPE'] = data['NAME_HOUSING_TYPE'].map(housing_type)\n",
        "    data['NAME_INCOME_TYPE'] = data['NAME_INCOME_TYPE'].map(income_type)\n",
        "    data['NAME_EDUCATION_TYPE']=data['NAME_EDUCATION_TYPE'].map(education_type)\n",
        "    data['NAME_FAMILY_STATUS']=data['NAME_FAMILY_STATUS'].map(family_status)\n",
        "    return data"
      ]
    },
    {
      "cell_type": "code",
      "execution_count": null,
      "id": "figured-camel",
      "metadata": {
        "execution": {
          "iopub.execute_input": "2021-12-10T02:28:33.308103Z",
          "iopub.status.busy": "2021-12-10T02:28:33.307194Z",
          "iopub.status.idle": "2021-12-10T02:28:33.378400Z",
          "shell.execute_reply": "2021-12-10T02:28:33.378993Z",
          "shell.execute_reply.started": "2021-12-10T02:09:49.672296Z"
        },
        "papermill": {
          "duration": 0.106161,
          "end_time": "2021-12-10T02:28:33.379202",
          "exception": false,
          "start_time": "2021-12-10T02:28:33.273041",
          "status": "completed"
        },
        "tags": [],
        "id": "figured-camel"
      },
      "outputs": [],
      "source": [
        "cleansed_app = data_cleansing(app)"
      ]
    },
    {
      "cell_type": "markdown",
      "id": "black-india",
      "metadata": {
        "papermill": {
          "duration": 0.030888,
          "end_time": "2021-12-10T02:28:33.441522",
          "exception": false,
          "start_time": "2021-12-10T02:28:33.410634",
          "status": "completed"
        },
        "tags": [],
        "id": "black-india"
      },
      "source": [
        "## Feature Engineering"
      ]
    },
    {
      "cell_type": "markdown",
      "id": "varying-longitude",
      "metadata": {
        "papermill": {
          "duration": 0.030777,
          "end_time": "2021-12-10T02:28:33.505846",
          "exception": false,
          "start_time": "2021-12-10T02:28:33.475069",
          "status": "completed"
        },
        "tags": [],
        "id": "varying-longitude"
      },
      "source": [
        "A ratio based method was used to create the target variable. For example, given a client with a time period of 60 months, if the client had paid off loan 40 times and was late 20 times, this would be considered a fairly good client given that there were more loans that were paid off on time compared to late payments. If a client had no loans throughout the initial approval of the credit card account, by default, this would be considered a good client as well. To identify a bad client, the number of past dues would exceed the number of loans paid off  or if the client only has past dues. It may be better to incorporate a set difference between number of paid off loans and number of past dues. Meaning, there needs to be a significant gap between paid off loans and past dues. If a person has 50 past dues and 51 paid off loans, based on the ratio method, this would be considered good. However the difference is only 1 and this may not be a good sign of a good client. For simplicity sake, I will not adjust the algorithm further and keep it at ratio decisioning. Code is also not optimal, adjustment may be needed for the code to compute faster."
      ]
    },
    {
      "cell_type": "code",
      "execution_count": null,
      "id": "legal-science",
      "metadata": {
        "execution": {
          "iopub.execute_input": "2021-12-10T02:28:33.573512Z",
          "iopub.status.busy": "2021-12-10T02:28:33.572477Z",
          "iopub.status.idle": "2021-12-10T02:28:33.582487Z",
          "shell.execute_reply": "2021-12-10T02:28:33.583057Z",
          "shell.execute_reply.started": "2021-12-10T02:09:49.750048Z"
        },
        "papermill": {
          "duration": 0.046142,
          "end_time": "2021-12-10T02:28:33.583284",
          "exception": false,
          "start_time": "2021-12-10T02:28:33.537142",
          "status": "completed"
        },
        "tags": [],
        "id": "legal-science"
      },
      "outputs": [],
      "source": [
        "def feature_engineering_target(data):\n",
        "    good_or_bad = []\n",
        "    for index, row in data.iterrows():\n",
        "        paid_off = row['paid_off']\n",
        "        over_1 = row['pastdue_1-29']\n",
        "        over_30 = row['pastdue_30-59']\n",
        "        over_60 = row['pastdue_60-89']\n",
        "        over_90 = row['pastdue_90-119']\n",
        "        over_120 = row['pastdue_120-149'] + row['pastdue_over_150']\n",
        "        no_loan = row['no_loan']\n",
        "\n",
        "        overall_pastdues = over_1+over_30+over_60+over_90+over_120\n",
        "\n",
        "        if overall_pastdues == 0:\n",
        "            if paid_off >= no_loan or paid_off <= no_loan:\n",
        "                good_or_bad.append(1)\n",
        "            elif paid_off == 0 and no_loan == 1:\n",
        "                good_or_bad.append(1)\n",
        "\n",
        "        elif overall_pastdues != 0:\n",
        "            if paid_off > overall_pastdues:\n",
        "                good_or_bad.append(1)\n",
        "            elif paid_off <= overall_pastdues:\n",
        "                good_or_bad.append(0)\n",
        "\n",
        "        elif paid_off == 0 and no_loan != 0:\n",
        "            if overall_pastdues <= no_loan or overall_pastdues >= no_loan:\n",
        "                good_or_bad.append(0)\n",
        "\n",
        "        else:\n",
        "            good_or_bad.append(1)\n",
        "\n",
        "\n",
        "    return good_or_bad"
      ]
    },
    {
      "cell_type": "markdown",
      "id": "surprised-merit",
      "metadata": {
        "papermill": {
          "duration": 0.030794,
          "end_time": "2021-12-10T02:28:33.645862",
          "exception": false,
          "start_time": "2021-12-10T02:28:33.615068",
          "status": "completed"
        },
        "tags": [],
        "id": "surprised-merit"
      },
      "source": [
        "There is data on clients in the credit data that intersect with the application data. the following is a merge between the two data frames given on the data of clients that exist in both data sets. Featured engineered additional columns from the credit data."
      ]
    },
    {
      "cell_type": "code",
      "execution_count": null,
      "id": "thirty-passion",
      "metadata": {
        "execution": {
          "iopub.execute_input": "2021-12-10T02:28:33.717327Z",
          "iopub.status.busy": "2021-12-10T02:28:33.716607Z",
          "iopub.status.idle": "2021-12-10T02:28:39.710144Z",
          "shell.execute_reply": "2021-12-10T02:28:39.709563Z",
          "shell.execute_reply.started": "2021-12-10T02:09:49.76464Z"
        },
        "papermill": {
          "duration": 6.033625,
          "end_time": "2021-12-10T02:28:39.710338",
          "exception": false,
          "start_time": "2021-12-10T02:28:33.676713",
          "status": "completed"
        },
        "tags": [],
        "id": "thirty-passion"
      },
      "outputs": [],
      "source": [
        "target = pd.DataFrame()\n",
        "target['ID'] = pivot_tb.index\n",
        "target['paid_off'] = pivot_tb['paid_off'].values\n",
        "target['#_of_pastdues'] = pivot_tb['pastdue_1-29'].values+ pivot_tb['pastdue_30-59'].values + pivot_tb['pastdue_60-89'].values +pivot_tb['pastdue_90-119'].values+pivot_tb['pastdue_120-149'].values +pivot_tb['pastdue_over_150'].values\n",
        "target['no_loan'] = pivot_tb['no_loan'].values\n",
        "target['target'] = feature_engineering_target(pivot_tb)\n",
        "credit_app = cleansed_app.merge(target, how = 'inner', on = 'ID')\n",
        "credit_app.drop('ID', axis = 1, inplace = True)"
      ]
    },
    {
      "cell_type": "code",
      "execution_count": null,
      "id": "outer-metallic",
      "metadata": {
        "execution": {
          "iopub.execute_input": "2021-12-10T02:28:39.783295Z",
          "iopub.status.busy": "2021-12-10T02:28:39.782593Z",
          "iopub.status.idle": "2021-12-10T02:28:39.788396Z",
          "shell.execute_reply": "2021-12-10T02:28:39.787801Z",
          "shell.execute_reply.started": "2021-12-10T02:09:57.180046Z"
        },
        "papermill": {
          "duration": 0.047024,
          "end_time": "2021-12-10T02:28:39.788555",
          "exception": false,
          "start_time": "2021-12-10T02:28:39.741531",
          "status": "completed"
        },
        "tags": [],
        "id": "outer-metallic"
      },
      "outputs": [],
      "source": [
        "x = credit_app[credit_app.drop('target', axis = 1).columns]\n",
        "y = credit_app['target']\n",
        "xtrain, xtest, ytrain, ytest = train_test_split(x,y, train_size = 0.8, random_state = 0)"
      ]
    },
    {
      "cell_type": "code",
      "execution_count": null,
      "id": "adequate-container",
      "metadata": {
        "execution": {
          "iopub.execute_input": "2021-12-10T02:28:39.856101Z",
          "iopub.status.busy": "2021-12-10T02:28:39.855358Z",
          "iopub.status.idle": "2021-12-10T02:28:39.866390Z",
          "shell.execute_reply": "2021-12-10T02:28:39.866949Z",
          "shell.execute_reply.started": "2021-12-10T02:09:57.19479Z"
        },
        "papermill": {
          "duration": 0.047482,
          "end_time": "2021-12-10T02:28:39.867198",
          "exception": false,
          "start_time": "2021-12-10T02:28:39.819716",
          "status": "completed"
        },
        "tags": [],
        "id": "adequate-container"
      },
      "outputs": [],
      "source": [
        "def feature_engineering_dummies(train, test):\n",
        "    ohe = OneHotEncoder(drop = 'if_binary')\n",
        "    xtrain_cat = train.select_dtypes(['object'])\n",
        "    xtest_cat = test.select_dtypes(['object'])\n",
        "\n",
        "    train_dummies = pd.DataFrame(ohe.fit_transform(xtrain_cat).todense(),\n",
        "                              columns = ohe.get_feature_names(xtrain_cat.columns))\n",
        "    test_dummies = pd.DataFrame(ohe.transform(xtest_cat).todense(),\n",
        "                                columns = ohe.get_feature_names(xtest_cat.columns))\n",
        "    train_dummies.index = train.index\n",
        "    test_dummies.index = test.index\n",
        "\n",
        "    train_with_dummies = pd.concat([train,train_dummies], axis = 1)\n",
        "    train_with_dummies.drop(xtrain_cat.columns, axis = 1, inplace = True)\n",
        "\n",
        "    test_with_dummies = pd.concat([test,test_dummies], axis = 1)\n",
        "    test_with_dummies.drop(xtest_cat.columns, axis = 1, inplace = True)\n",
        "\n",
        "    return train_with_dummies, test_with_dummies"
      ]
    },
    {
      "cell_type": "code",
      "execution_count": null,
      "id": "possible-flavor",
      "metadata": {
        "execution": {
          "iopub.execute_input": "2021-12-10T02:28:39.944563Z",
          "iopub.status.busy": "2021-12-10T02:28:39.943861Z",
          "iopub.status.idle": "2021-12-10T02:28:39.991444Z",
          "shell.execute_reply": "2021-12-10T02:28:39.990670Z",
          "shell.execute_reply.started": "2021-12-10T02:09:57.210274Z"
        },
        "papermill": {
          "duration": 0.090641,
          "end_time": "2021-12-10T02:28:39.991606",
          "exception": false,
          "start_time": "2021-12-10T02:28:39.900965",
          "status": "completed"
        },
        "tags": [],
        "id": "possible-flavor"
      },
      "outputs": [],
      "source": [
        "xtrain_with_dummies, xtest_with_dummies = feature_engineering_dummies(xtrain,xtest)"
      ]
    },
    {
      "cell_type": "code",
      "execution_count": null,
      "id": "opposite-wholesale",
      "metadata": {
        "execution": {
          "iopub.execute_input": "2021-12-10T02:28:40.059710Z",
          "iopub.status.busy": "2021-12-10T02:28:40.058888Z",
          "iopub.status.idle": "2021-12-10T02:28:40.066108Z",
          "shell.execute_reply": "2021-12-10T02:28:40.066809Z",
          "shell.execute_reply.started": "2021-12-10T02:09:57.271039Z"
        },
        "papermill": {
          "duration": 0.043306,
          "end_time": "2021-12-10T02:28:40.067110",
          "exception": false,
          "start_time": "2021-12-10T02:28:40.023804",
          "status": "completed"
        },
        "tags": [],
        "id": "opposite-wholesale",
        "outputId": "c56d2251-a46f-4b6c-cb26-96f2cae09d29"
      },
      "outputs": [
        {
          "name": "stdout",
          "output_type": "stream",
          "text": [
            "0    4258\n",
            "1    3509\n",
            "Name: target, dtype: int64\n",
            "0    1037\n",
            "1     905\n",
            "Name: target, dtype: int64\n"
          ]
        }
      ],
      "source": [
        "print(ytrain.value_counts())\n",
        "print(ytest.value_counts())"
      ]
    },
    {
      "cell_type": "markdown",
      "id": "forbidden-difficulty",
      "metadata": {
        "papermill": {
          "duration": 0.032273,
          "end_time": "2021-12-10T02:28:40.133859",
          "exception": false,
          "start_time": "2021-12-10T02:28:40.101586",
          "status": "completed"
        },
        "tags": [],
        "id": "forbidden-difficulty"
      },
      "source": [
        "Imported SMOTE in case of high imbalance of target variable. However, it does not seem to be highly imbalanced so it is fine not to use an imbalanced technique."
      ]
    },
    {
      "cell_type": "markdown",
      "id": "distinct-tiger",
      "metadata": {
        "papermill": {
          "duration": 0.031537,
          "end_time": "2021-12-10T02:28:40.199479",
          "exception": false,
          "start_time": "2021-12-10T02:28:40.167942",
          "status": "completed"
        },
        "tags": [],
        "id": "distinct-tiger"
      },
      "source": [
        "## Machine Learning with Random Forest"
      ]
    },
    {
      "cell_type": "code",
      "execution_count": null,
      "id": "champion-schedule",
      "metadata": {
        "execution": {
          "iopub.execute_input": "2021-12-10T02:28:40.268585Z",
          "iopub.status.busy": "2021-12-10T02:28:40.267843Z",
          "iopub.status.idle": "2021-12-10T02:29:02.632366Z",
          "shell.execute_reply": "2021-12-10T02:29:02.631393Z",
          "shell.execute_reply.started": "2021-12-10T02:09:57.280152Z"
        },
        "papermill": {
          "duration": 22.400442,
          "end_time": "2021-12-10T02:29:02.632587",
          "exception": false,
          "start_time": "2021-12-10T02:28:40.232145",
          "status": "completed"
        },
        "tags": [],
        "id": "champion-schedule",
        "outputId": "77d4e9fb-3e1a-4684-f369-797cffcf74e5"
      },
      "outputs": [
        {
          "name": "stdout",
          "output_type": "stream",
          "text": [
            "Fitting 5 folds for each of 10 candidates, totalling 50 fits\n",
            "{'n_estimators': 200, 'min_samples_split': 5, 'min_samples_leaf': 1, 'max_features': 'auto', 'max_depth': 100, 'bootstrap': False}\n"
          ]
        }
      ],
      "source": [
        "n_estimators = [int(x) for x in np.linspace(start = 10, stop = 200, num = 2)]\n",
        "max_features = ['auto', 'sqrt']\n",
        "max_depth = [int(x) for x in np.linspace(10, 110, num = 11)]\n",
        "max_depth.append(None)\n",
        "min_samples_split = [2, 5, 10]\n",
        "min_samples_leaf = [1, 2, 4]\n",
        "bootstrap = [True, False]\n",
        "\n",
        "grid_rf = {'n_estimators': n_estimators,\n",
        "               'max_features': max_features,\n",
        "               'max_depth': max_depth,\n",
        "               'min_samples_split': min_samples_split,\n",
        "               'min_samples_leaf': min_samples_leaf,\n",
        "               'bootstrap': bootstrap}\n",
        "\n",
        "rf = RandomForestClassifier()\n",
        "grid = RandomizedSearchCV(rf, grid_rf, cv = 5,verbose = True, n_jobs = -1)\n",
        "grid.fit(xtrain_with_dummies,ytrain)\n",
        "params = grid.best_params_\n",
        "print(params)"
      ]
    },
    {
      "cell_type": "code",
      "execution_count": null,
      "id": "endless-gravity",
      "metadata": {
        "papermill": {
          "duration": 0.033647,
          "end_time": "2021-12-10T02:29:02.701380",
          "exception": false,
          "start_time": "2021-12-10T02:29:02.667733",
          "status": "completed"
        },
        "tags": [],
        "id": "endless-gravity"
      },
      "outputs": [],
      "source": []
    },
    {
      "cell_type": "markdown",
      "id": "prostate-assault",
      "metadata": {
        "papermill": {
          "duration": 0.032014,
          "end_time": "2021-12-10T02:29:02.767542",
          "exception": false,
          "start_time": "2021-12-10T02:29:02.735528",
          "status": "completed"
        },
        "tags": [],
        "id": "prostate-assault"
      },
      "source": []
    },
    {
      "cell_type": "markdown",
      "id": "decimal-infrastructure",
      "metadata": {
        "papermill": {
          "duration": 0.032716,
          "end_time": "2021-12-10T02:29:02.832720",
          "exception": false,
          "start_time": "2021-12-10T02:29:02.800004",
          "status": "completed"
        },
        "tags": [],
        "id": "decimal-infrastructure"
      },
      "source": []
    },
    {
      "cell_type": "code",
      "execution_count": null,
      "id": "casual-population",
      "metadata": {
        "execution": {
          "iopub.execute_input": "2021-12-10T02:29:02.972549Z",
          "iopub.status.busy": "2021-12-10T02:29:02.971799Z",
          "iopub.status.idle": "2021-12-10T02:29:03.837006Z",
          "shell.execute_reply": "2021-12-10T02:29:03.837518Z",
          "shell.execute_reply.started": "2021-12-10T02:10:19.058695Z"
        },
        "papermill": {
          "duration": 0.907241,
          "end_time": "2021-12-10T02:29:03.837721",
          "exception": false,
          "start_time": "2021-12-10T02:29:02.930480",
          "status": "completed"
        },
        "tags": [],
        "id": "casual-population",
        "outputId": "ae749c8f-3ce7-4f0f-fc82-63687ce6c457"
      },
      "outputs": [
        {
          "name": "stdout",
          "output_type": "stream",
          "text": [
            "roc_auc test:  0.9877248970415083\n",
            "accuracy test:  0.9876416065911432\n",
            "f1 test:  0.9867695700110253\n"
          ]
        }
      ],
      "source": [
        "rf_grid = RandomForestClassifier(n_estimators = 200, min_samples_split = 5, min_samples_leaf = 2, max_features = 'sqrt', max_depth = 80, bootstrap = True, random_state = 0)\n",
        "rf.fit(xtrain_with_dummies, ytrain)\n",
        "predictions_test = rf.predict(xtest_with_dummies)\n",
        "roc_auc_test = roc_auc_score(ytest,predictions_test)\n",
        "accuracy_test = accuracy_score(ytest,predictions_test)\n",
        "f1_test = f1_score(ytest, predictions_test)\n",
        "\n",
        "print('roc_auc test: ', roc_auc_test)\n",
        "print('accuracy test: ', accuracy_test)\n",
        "print('f1 test: ', f1_test)\n",
        "\n"
      ]
    }
  ],
  "metadata": {
    "kernelspec": {
      "display_name": "Python 3",
      "language": "python",
      "name": "python3"
    },
    "language_info": {
      "codemirror_mode": {
        "name": "ipython",
        "version": 3
      },
      "file_extension": ".py",
      "mimetype": "text/x-python",
      "name": "python",
      "nbconvert_exporter": "python",
      "pygments_lexer": "ipython3",
      "version": "3.7.10"
    },
    "papermill": {
      "default_parameters": {},
      "duration": 51.862465,
      "end_time": "2021-12-10T02:29:04.883506",
      "environment_variables": {},
      "exception": null,
      "input_path": "__notebook__.ipynb",
      "output_path": "__notebook__.ipynb",
      "parameters": {},
      "start_time": "2021-12-10T02:28:13.021041",
      "version": "2.3.3"
    },
    "colab": {
      "provenance": []
    }
  },
  "nbformat": 4,
  "nbformat_minor": 5
}